{
 "cells": [
  {
   "cell_type": "code",
   "execution_count": 90,
   "metadata": {},
   "outputs": [],
   "source": [
    "from src.textnode import *\n",
    "from src.htmlnode import *\n",
    "import re\n",
    "\n",
    "\n",
    "\n",
    "def split_nodes_delimiter(old_nodes, delimiter, text_type):\n",
    "    new_nodes = [] #List to append nodes to\n",
    "    delim_count = 0 #Used for delimiter count check\n",
    "    #iterate over list\n",
    "    for node in old_nodes:\n",
    "        #check for non-text types and append them to new list\n",
    "        if node.text_type is not TextType.TEXT:\n",
    "            print(\"Fokweet\")\n",
    "            new_nodes.append(node)\n",
    "        #Iterate through characters to check for uneven delimiters\n",
    "        for char in node.text:\n",
    "            if char == delimiter:\n",
    "                delim_count += 1\n",
    "        if delim_count%2 != 0:\n",
    "            delim_count = 0\n",
    "            raise Exception(\"Invalid Markdown syntax (uneven delimiters)\")\n",
    "        #With all checks passed, split text.\n",
    "        split_text = re.split(rf\"({re.escape(delimiter)}.*?{re.escape(delimiter)})\", node.text)\n",
    "\n",
    "        for segment in split_text:\n",
    "            if segment.startswith(delimiter) and segment.endswith(delimiter):\n",
    "                # Remove the delimiters and create a new node with the specified text_type\n",
    "                content = segment[len(delimiter):-len(delimiter)]\n",
    "                new_nodes.append(TextNode(content, text_type))\n",
    "            else:\n",
    "                # Create a new node with the default text type\n",
    "                new_nodes.append(TextNode(segment, TextType.TEXT))\n",
    "\n",
    "    return new_nodes"
   ]
  },
  {
   "cell_type": "code",
   "execution_count": 92,
   "metadata": {},
   "outputs": [
    {
     "data": {
      "text/plain": [
       "[TextNode(This is text with a ,TextType.TEXT,None),\n",
       " TextNode(code block,TextType.CODE,None),\n",
       " TextNode( word,TextType.TEXT,None)]"
      ]
     },
     "execution_count": 92,
     "metadata": {},
     "output_type": "execute_result"
    }
   ],
   "source": [
    "split_nodes_delimiter([TextNode(\"This is text with a `code block` word\", TextType.TEXT)],\"`\",TextType.CODE)"
   ]
  },
  {
   "cell_type": "code",
   "execution_count": null,
   "metadata": {},
   "outputs": [],
   "source": []
  }
 ],
 "metadata": {
  "kernelspec": {
   "display_name": "Python 3",
   "language": "python",
   "name": "python3"
  },
  "language_info": {
   "codemirror_mode": {
    "name": "ipython",
    "version": 3
   },
   "file_extension": ".py",
   "mimetype": "text/x-python",
   "name": "python",
   "nbconvert_exporter": "python",
   "pygments_lexer": "ipython3",
   "version": "3.11.11"
  }
 },
 "nbformat": 4,
 "nbformat_minor": 2
}
