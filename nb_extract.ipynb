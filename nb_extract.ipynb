{
 "cells": [
  {
   "cell_type": "code",
   "execution_count": 2,
   "metadata": {},
   "outputs": [],
   "source": [
    "import re\n",
    "def extract_markdown_images(text):\n",
    "    pattern = r\"!\\[([^\\[\\]]*)\\]\\(([^\\(\\)]*)\\)\"\n",
    "    matches = re.findall(pattern, text)\n",
    "    return matches\n",
    "\n",
    "\n",
    "def extract_markdown_links(text):\n",
    "    pattern = r\"(?<!!)\\[([^\\[\\]]*)\\]\\(([^\\(\\)]*)\\)\"\n",
    "    matches = re.findall(pattern, text)\n",
    "    return matches"
   ]
  },
  {
   "cell_type": "code",
   "execution_count": 3,
   "metadata": {},
   "outputs": [
    {
     "name": "stdout",
     "output_type": "stream",
     "text": [
      "['This is text with a ', 'rick roll', 'https://i.imgur.com/aKaOqIh.gif', ' and ', 'obi wan', 'https://i.imgur.com/fJRm4Vk.jpeg', '']\n"
     ]
    }
   ],
   "source": [
    "text = \"This is text with a ![rick roll](https://i.imgur.com/aKaOqIh.gif) and ![obi wan](https://i.imgur.com/fJRm4Vk.jpeg)\"\n",
    "print(extract_markdown_images(text))\n",
    "# [(\"rick roll\", \"https://i.imgur.com/aKaOqIh.gif\"), (\"obi wan\", \"https://i.imgur.com/fJRm4Vk.jpeg\")]"
   ]
  }
 ],
 "metadata": {
  "kernelspec": {
   "display_name": "Python 3",
   "language": "python",
   "name": "python3"
  },
  "language_info": {
   "codemirror_mode": {
    "name": "ipython",
    "version": 3
   },
   "file_extension": ".py",
   "mimetype": "text/x-python",
   "name": "python",
   "nbconvert_exporter": "python",
   "pygments_lexer": "ipython3",
   "version": "3.11.11"
  }
 },
 "nbformat": 4,
 "nbformat_minor": 2
}
